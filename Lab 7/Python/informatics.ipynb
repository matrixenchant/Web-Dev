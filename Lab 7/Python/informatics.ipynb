{
 "cells": [
  {
   "attachments": {},
   "cell_type": "markdown",
   "metadata": {},
   "source": [
    "### Ввод-вывод: Задачи на ввод-вывод и арифметические операции"
   ]
  },
  {
   "cell_type": "code",
   "execution_count": 4,
   "metadata": {},
   "outputs": [
    {
     "name": "stdout",
     "output_type": "stream",
     "text": [
      "5.0\n"
     ]
    }
   ],
   "source": [
    "# Гипотенуза\n",
    "a, b = [int(input()), int(input())]\n",
    "c = (a**2 + b**2)**0.5\n",
    "print(c)"
   ]
  },
  {
   "cell_type": "code",
   "execution_count": 5,
   "metadata": {},
   "outputs": [
    {
     "name": "stdout",
     "output_type": "stream",
     "text": [
      "The next number for the number 179 is 180.\n",
      "The previous number for the number 179 is 178.\n"
     ]
    }
   ],
   "source": [
    "# Следующее и предыдущее\n",
    "a = int(input())\n",
    "print(f'The next number for the number {a} is {a+1}.')\n",
    "print(f'The previous number for the number {a} is {a-1}.')"
   ]
  },
  {
   "cell_type": "code",
   "execution_count": 8,
   "metadata": {},
   "outputs": [
    {
     "name": "stdout",
     "output_type": "stream",
     "text": [
      "4\n"
     ]
    }
   ],
   "source": [
    "# Дележ яблок - 1\n",
    "n, k = [int(input()), int(input())]\n",
    "print(k // n)"
   ]
  },
  {
   "cell_type": "code",
   "execution_count": 9,
   "metadata": {},
   "outputs": [
    {
     "name": "stdout",
     "output_type": "stream",
     "text": [
      "2\n"
     ]
    }
   ],
   "source": [
    "# Дележ яблок - 2\n",
    "n, k = [int(input()), int(input())]\n",
    "print(k % n)"
   ]
  },
  {
   "cell_type": "code",
   "execution_count": 32,
   "metadata": {},
   "outputs": [
    {
     "name": "stdout",
     "output_type": "stream",
     "text": [
      "11\n"
     ]
    }
   ],
   "source": [
    "# МКАД\n",
    "ROAD_LENGTH = 109\n",
    "v, t = 60, 2\n",
    "s = v * t\n",
    "result = s % ROAD_LENGTH\n",
    "print(result)"
   ]
  },
  {
   "attachments": {},
   "cell_type": "markdown",
   "metadata": {},
   "source": [
    "### Условный оператор: Условия задач"
   ]
  },
  {
   "cell_type": "code",
   "execution_count": 31,
   "metadata": {},
   "outputs": [
    {
     "name": "stdout",
     "output_type": "stream",
     "text": [
      "2\n"
     ]
    }
   ],
   "source": [
    "# Максимум из двух чисел\n",
    "a, b = 1, 2\n",
    "print(a if a > b else b)"
   ]
  },
  {
   "cell_type": "code",
   "execution_count": 33,
   "metadata": {},
   "outputs": [
    {
     "name": "stdout",
     "output_type": "stream",
     "text": [
      "NO\n"
     ]
    }
   ],
   "source": [
    "# Високосный год\n",
    "year = 2007\n",
    "\n",
    "if (year % 4 == 0 and year % 100 != 0) or year % 400 == 0:\n",
    "    print('YES')\n",
    "else:\n",
    "    print('NO')"
   ]
  },
  {
   "cell_type": "code",
   "execution_count": 58,
   "metadata": {},
   "outputs": [
    {
     "name": "stdout",
     "output_type": "stream",
     "text": [
      "-1\n",
      "1\n",
      "Election 1\n"
     ]
    }
   ],
   "source": [
    "# Functions\n",
    "\n",
    "def min(*numbers):\n",
    "    m = numbers[0]\n",
    "    for d in numbers:\n",
    "        if d < m: m = d\n",
    "    print(m)\n",
    "    return m\n",
    "\n",
    "min(10, 2, 3, 4, 0, -1)\n",
    "\n",
    "def xor(x, y):\n",
    "    print(x ^ y)\n",
    "    return x ^ y\n",
    "\n",
    "\n",
    "xor(1, 0)\n",
    "\n",
    "def Election(*members):\n",
    "    ones = sum(members)\n",
    "    zeros = len(members) - ones\n",
    "    if ones == zeros: return -1\n",
    "    res = 1 if ones > zeros else 0\n",
    "    return res\n",
    "\n",
    "print('Election', Election(0, 1, 1, 1))"
   ]
  }
 ],
 "metadata": {
  "kernelspec": {
   "display_name": "Python 3",
   "language": "python",
   "name": "python3"
  },
  "language_info": {
   "codemirror_mode": {
    "name": "ipython",
    "version": 3
   },
   "file_extension": ".py",
   "mimetype": "text/x-python",
   "name": "python",
   "nbconvert_exporter": "python",
   "pygments_lexer": "ipython3",
   "version": "3.10.2"
  },
  "orig_nbformat": 4
 },
 "nbformat": 4,
 "nbformat_minor": 2
}
